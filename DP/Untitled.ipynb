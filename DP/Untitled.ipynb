{
 "cells": [
  {
   "cell_type": "markdown",
   "metadata": {},
   "source": [
    "## Fibonacci"
   ]
  },
  {
   "cell_type": "code",
   "execution_count": 20,
   "metadata": {},
   "outputs": [
    {
     "name": "stdout",
     "output_type": "stream",
     "text": [
      "1\n",
      "5\n",
      "13\n"
     ]
    }
   ],
   "source": [
    "# brute force\n",
    "\n",
    "def fib_bf(n):\n",
    "    if n <= 2: return 1\n",
    "    return fib_bf(n-1) + fib_bf(n-2)\n",
    "\n",
    "\n",
    "print(fib_bf(2))\n",
    "print(fib_bf(5))\n",
    "print(fib_bf(7))\n",
    "print(fib_bf(50))\n",
    "\n",
    "# time: O(2^n)\n",
    "# space: O(n)\n"
   ]
  },
  {
   "cell_type": "code",
   "execution_count": 19,
   "metadata": {},
   "outputs": [
    {
     "name": "stdout",
     "output_type": "stream",
     "text": [
      "1\n",
      "5\n",
      "13\n",
      "12586269025\n"
     ]
    }
   ],
   "source": [
    "# memoization\n",
    "\n",
    "def fib_m(n, memo={}):\n",
    "    if n <= 2: return 1\n",
    "    if n in memo: return memo[n]\n",
    "    \n",
    "    memo[n] = fib_m(n-1, memo) + fib_m(n-2, memo)\n",
    "    return memo[n]\n",
    "\n",
    "\n",
    "print(fib_m(2))\n",
    "print(fib_m(5))\n",
    "print(fib_m(7))\n",
    "print(fib_m(50))\n",
    "\n",
    "# time: O(2^n)\n",
    "# space: O(n)\n"
   ]
  },
  {
   "cell_type": "markdown",
   "metadata": {},
   "source": [
    "## Grid Traveller"
   ]
  },
  {
   "cell_type": "code",
   "execution_count": 3,
   "metadata": {},
   "outputs": [
    {
     "name": "stdout",
     "output_type": "stream",
     "text": [
      "3\n",
      "1\n",
      "0\n"
     ]
    }
   ],
   "source": [
    "# brute force\n",
    "\n",
    "def grid_bf(m, n):\n",
    "    if m == 0 or n == 0: return 0\n",
    "    if n == 1 or m == 1: return 1\n",
    "    \n",
    "    return grid_bf(m-1, n) + grid_bf(m, n-1)\n",
    "\n",
    "print(grid_bf(2, 3))\n",
    "print(grid_bf(1, 3))\n",
    "print(grid_bf(2, 0))\n",
    "# print(grid_bf(20, 30))\n",
    "\n",
    "# time: O(2^(m+n))\n",
    "# space: O(m+n)\n"
   ]
  },
  {
   "cell_type": "code",
   "execution_count": 4,
   "metadata": {},
   "outputs": [
    {
     "name": "stdout",
     "output_type": "stream",
     "text": [
      "3\n",
      "3\n",
      "6\n",
      "1\n",
      "0\n",
      "25477612258980856902730428600\n"
     ]
    }
   ],
   "source": [
    "# memoization\n",
    "\n",
    "def grid_m(m, n, memo={}):\n",
    "    size = f'{m},{n}'\n",
    "    if size in memo: return memo[size]\n",
    "    if m == 0 or n == 0:\n",
    "        return 0\n",
    "    if n == 1 or m == 1:\n",
    "        return 1\n",
    "    \n",
    "    memo[size] = grid_m(m-1, n, memo) + grid_m(m, n-1, memo)\n",
    "    return memo[size]\n",
    "\n",
    "\n",
    "\n",
    "print(grid_m(2, 3))\n",
    "print(grid_m(3, 2))\n",
    "print(grid_m(3, 3))\n",
    "print(grid_m(1, 3))\n",
    "print(grid_m(2, 0))\n",
    "print(grid_m(50, 50))\n",
    "\n",
    "# time: O(2^(m+n))\n",
    "# space: O(m+n)\n"
   ]
  },
  {
   "cell_type": "markdown",
   "metadata": {},
   "source": [
    "## Can Sum"
   ]
  },
  {
   "cell_type": "code",
   "execution_count": 7,
   "metadata": {},
   "outputs": [
    {
     "name": "stdout",
     "output_type": "stream",
     "text": [
      "False\n",
      "True\n"
     ]
    }
   ],
   "source": [
    "# brute force\n",
    "\n",
    "def can_sum_bf(n, arr):\n",
    "    if n == 0: return True\n",
    "    if n < 0: return False\n",
    "    \n",
    "    for num in arr:\n",
    "        if can_sum_bf(n - num, arr): return True\n",
    "        \n",
    "    return False\n",
    "\n",
    "print(can_sum_bf(7, (2, 4)))\n",
    "print(can_sum_bf(300, (7, 14)))\n",
    "\n",
    "# time: O(len(arr)^n)\n",
    "# space: O(n)\n"
   ]
  },
  {
   "cell_type": "code",
   "execution_count": 8,
   "metadata": {},
   "outputs": [
    {
     "name": "stdout",
     "output_type": "stream",
     "text": [
      "False\n",
      "False\n"
     ]
    }
   ],
   "source": [
    "# memoization\n",
    "\n",
    "def can_sum_m(n, arr, memo={}):\n",
    "    if n in memo: return memo[n]\n",
    "    if n == 0: return True\n",
    "    if n < 0: return False\n",
    "    \n",
    "    for num in arr:\n",
    "        if can_sum_m(n - num, arr, memo):\n",
    "#             memo[n] = True\n",
    "            return True\n",
    "        \n",
    "    memo[n] = False    \n",
    "    return False\n",
    "\n",
    "print(can_sum_m(7, (2, 4)))\n",
    "print(can_sum_m(300, (7, 14)))\n",
    "\n",
    "# time: O(len(arr)*n)\n",
    "# space: O(n)\n"
   ]
  },
  {
   "cell_type": "markdown",
   "metadata": {},
   "source": [
    "## How Sum"
   ]
  },
  {
   "cell_type": "code",
   "execution_count": 13,
   "metadata": {},
   "outputs": [
    {
     "name": "stdout",
     "output_type": "stream",
     "text": [
      "None\n",
      "[2, 2, 3]\n"
     ]
    }
   ],
   "source": [
    "# brute force\n",
    "\n",
    "def how_sum_bf(n, arr):\n",
    "    if n == 0: return []\n",
    "    if n < 0: return None\n",
    "    \n",
    "    for num in arr:\n",
    "        fetched = how_sum_bf(n - num, arr)\n",
    "        if fetched is not None: \n",
    "            return [num, *fetched]\n",
    "        \n",
    "    return None\n",
    "\n",
    "        \n",
    "print(how_sum_bf(7, (2, 4)))\n",
    "print(how_sum_bf(7, (2, 3, 4)))\n",
    "# print(how_sum_bf(300, (7, 14)))\n",
    "\n",
    "# time: O(len(arr)^n * n)\n",
    "# space: O(n^2)"
   ]
  },
  {
   "cell_type": "code",
   "execution_count": 12,
   "metadata": {},
   "outputs": [
    {
     "data": {
      "text/plain": [
       "[1, 2, 3, 4, 5]"
      ]
     },
     "execution_count": 12,
     "metadata": {},
     "output_type": "execute_result"
    }
   ],
   "source": [
    "a = [2,3,4,5]\n",
    "[1, *a]"
   ]
  }
 ],
 "metadata": {
  "kernelspec": {
   "display_name": "Python 3",
   "language": "python",
   "name": "python3"
  },
  "language_info": {
   "codemirror_mode": {
    "name": "ipython",
    "version": 3
   },
   "file_extension": ".py",
   "mimetype": "text/x-python",
   "name": "python",
   "nbconvert_exporter": "python",
   "pygments_lexer": "ipython3",
   "version": "3.8.3"
  }
 },
 "nbformat": 4,
 "nbformat_minor": 4
}
